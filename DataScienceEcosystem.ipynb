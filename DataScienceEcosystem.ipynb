{
 "cells": [
  {
   "cell_type": "markdown",
   "id": "ca825c0d-0362-4071-a51a-a103bef69ac5",
   "metadata": {},
   "source": [
    "# Data Science Tools and Ecosystem"
   ]
  },
  {
   "cell_type": "markdown",
   "id": "8874e8d7-e5b1-473d-87ca-5da68619bbd8",
   "metadata": {},
   "source": [
    "> In this notebook, Data Science Tools and Ecosystem are summarized. "
   ]
  },
  {
   "cell_type": "markdown",
   "id": "9958f67f-bbf8-485f-a65d-408d42895e6a",
   "metadata": {},
   "source": [
    "> Some of the popular languages that Data Scientists use are:"
   ]
  },
  {
   "cell_type": "markdown",
   "id": "77cb0c3f-7529-4019-ad2f-48ef880e2ad8",
   "metadata": {},
   "source": [
    "# Objectives:\n",
    "\n",
    "- Create a Jupyter Notebook\n",
    "- \r\n",
    "Insert code and markdown celtHub"
   ]
  },
  {
   "cell_type": "markdown",
   "id": "688787fe-7594-483b-a61e-71da051198a5",
   "metadata": {},
   "source": [
    "- Python\n",
    "- R\n",
    "- SQL"
   ]
  },
  {
   "cell_type": "markdown",
   "id": "530dce40-5adf-44e0-9d5e-fd8d6a422995",
   "metadata": {},
   "source": [
    "1. Python\n",
    "2. R\n",
    "3. SQL"
   ]
  },
  {
   "cell_type": "markdown",
   "id": "ebf6bcd4-5ffb-44a1-b293-69051723a5c8",
   "metadata": {},
   "source": [
    "# Some of the commonly used libraries used by Data Scientists include:\n",
    "\n",
    "1. ggplot\n",
    "2. Numpy\n",
    "3. Plotly\n",
    "4. Caret"
   ]
  },
  {
   "cell_type": "markdown",
   "id": "b5a8b352-2b1c-4290-911c-1676433affb6",
   "metadata": {},
   "source": [
    "| Data Science Tools |\n",
    "|-----|\n",
    "| Jypiter |\n",
    "| RStudio |\n",
    "| Visual Studio |"
   ]
  },
  {
   "cell_type": "markdown",
   "id": "149acc1b-359c-4632-a729-91feb7d562b2",
   "metadata": {},
   "source": [
    "### Below are a few examples of evaluating arithmetic expressions in Python"
   ]
  },
  {
   "cell_type": "code",
   "execution_count": 7,
   "id": "b8e26e79-bf33-430f-902a-024913b6d4da",
   "metadata": {},
   "outputs": [
    {
     "data": {
      "text/plain": [
       "3"
      ]
     },
     "execution_count": 7,
     "metadata": {},
     "output_type": "execute_result"
    }
   ],
   "source": [
    "1+2"
   ]
  },
  {
   "cell_type": "code",
   "execution_count": 8,
   "id": "3abb3b6b-a719-4cf0-bcb6-0b1d4adeab16",
   "metadata": {},
   "outputs": [
    {
     "data": {
      "text/plain": [
       "27"
      ]
     },
     "execution_count": 8,
     "metadata": {},
     "output_type": "execute_result"
    }
   ],
   "source": [
    "3*9"
   ]
  },
  {
   "cell_type": "code",
   "execution_count": 9,
   "id": "aaf9b02e-5737-4145-8c42-9dc062b7e784",
   "metadata": {},
   "outputs": [
    {
     "data": {
      "text/plain": [
       "1.0"
      ]
     },
     "execution_count": 9,
     "metadata": {},
     "output_type": "execute_result"
    }
   ],
   "source": [
    "9/9"
   ]
  },
  {
   "cell_type": "code",
   "execution_count": 10,
   "id": "f7823050-f328-4034-a93c-e522578432ce",
   "metadata": {},
   "outputs": [
    {
     "data": {
      "text/plain": [
       "17"
      ]
     },
     "execution_count": 10,
     "metadata": {},
     "output_type": "execute_result"
    }
   ],
   "source": [
    "# This a simple arithmetic expression to mutiply then add integers\n",
    "\n",
    "(3*4)+5"
   ]
  },
  {
   "cell_type": "code",
   "execution_count": 11,
   "id": "647e2baf-2363-4643-a769-26cd2e1127d8",
   "metadata": {},
   "outputs": [
    {
     "data": {
      "text/plain": [
       "3.3333333333333335"
      ]
     },
     "execution_count": 11,
     "metadata": {},
     "output_type": "execute_result"
    }
   ],
   "source": [
    "#  This will convert 200 minutes to hours by diving by 60\n",
    "200/60"
   ]
  },
  {
   "cell_type": "markdown",
   "id": "c15b65fe-3061-40f1-a659-953392d5dfef",
   "metadata": {},
   "source": [
    "## Author: Roberto Rosales Hernández"
   ]
  },
  {
   "cell_type": "code",
   "execution_count": null,
   "id": "4813ba14-920a-4569-960a-a650d4c876ce",
   "metadata": {},
   "outputs": [],
   "source": []
  }
 ],
 "metadata": {
  "kernelspec": {
   "display_name": "Python 3 (ipykernel)",
   "language": "python",
   "name": "python3"
  },
  "language_info": {
   "codemirror_mode": {
    "name": "ipython",
    "version": 3
   },
   "file_extension": ".py",
   "mimetype": "text/x-python",
   "name": "python",
   "nbconvert_exporter": "python",
   "pygments_lexer": "ipython3",
   "version": "3.12.4"
  }
 },
 "nbformat": 4,
 "nbformat_minor": 5
}
